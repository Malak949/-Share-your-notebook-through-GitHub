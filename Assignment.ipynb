{
 "cells": [
  {
   "cell_type": "markdown",
   "id": "fbe3312d-1bc3-4a88-9f0c-b3c4b32e71ef",
   "metadata": {},
   "source": [
    "<strong>Exercise 2 - Create a markdown cell with the title of the notebook.</strong>"
   ]
  },
  {
   "cell_type": "markdown",
   "id": "c0b7dd50-bacf-4dc0-98a1-6785b57fb181",
   "metadata": {},
   "source": [
    "<h1>Data Science Tools and Ecosystem</h1>"
   ]
  },
  {
   "cell_type": "markdown",
   "id": "a5b74512-a6ff-4dd2-89cc-d493d3bfd9fe",
   "metadata": {},
   "source": [
    "<strong>Exercise 3 - Create a markdown cell for an introduction. (1 pt)</strong>"
   ]
  },
  {
   "cell_type": "markdown",
   "id": "728d9b1f-1d0b-4eb3-996a-4453c25444b4",
   "metadata": {},
   "source": [
    "<p>Data Science Tools and Ecosystem are summarized.<p>"
   ]
  },
  {
   "cell_type": "markdown",
   "id": "6015b630-954a-4096-bfc0-dc28b53a378c",
   "metadata": {},
   "source": [
    "<strong>Exercise 4 - Create a markdown cell to list data science languages. (3 pts)</strong>"
   ]
  },
  {
   "cell_type": "markdown",
   "id": "3c957deb-56d8-43b4-9ab9-7f5efea83c17",
   "metadata": {},
   "source": [
    "\n",
    "<ol>\n",
    " <li>JavaScript.</li>\n",
    "    <li>Scala.</li>\n",
    "    <li>C/C++.</li>\n",
    "    <li>SQL.</li>\n",
    "    <li>Java.</li>\n",
    "    <li>Julia.</li>\n",
    "    <li>Python.</li>\n",
    "    <li>R.</li>\n",
    "   \n",
    "</ol>\n"
   ]
  },
  {
   "cell_type": "markdown",
   "id": "2e054783-ae15-402a-8391-6fbb81ec784a",
   "metadata": {},
   "source": [
    "<strong>Exercise 5 - Create a markdown cell to list data science libraries. (3 pts)</strong>"
   ]
  },
  {
   "cell_type": "markdown",
   "id": "5c211684-5f77-4c28-bd23-590a3ab0b368",
   "metadata": {},
   "source": [
    "\n",
    "<ol>\n",
    "    <li>SciPy.</li>\n",
    "    <li>Pandas.</li>\n",
    "    <li>TensorFlow.</li>\n",
    "    <li>NumPy.</li>\n",
    "    <li>NuPIC.</li>\n",
    "    <li>Ramp.</li>\n",
    "    <li>Pipenv.</li>\n",
    "    <li>Bob.</li>\n",
    "    <li>PyBrain.</li>\n",
    "    <li>PyTorch.</li>\n",
    "    <li>Scrapy.</li>\n",
    "    <li>BeautifulSoup.</li>\n",
    "    <li>LightGBM.</li>\n",
    "    <li>ELI5.</li>\n",
    "    <li>Theano.</li>\n",
    "    <li>Caffe2.</li>\n",
    "    <li>Chainer.</li>\n",
    "     <li>Matplotlib.</li>\n",
    "    <li>Keras.</li>\n",
    "    <li>SciKit-Learn.</li>\n",
    "</ol>"
   ]
  },
  {
   "cell_type": "markdown",
   "id": "22f68c77-7e82-427a-8e8d-12c0a609989a",
   "metadata": {},
   "source": [
    "<strong>Exercise 6 - Create a markdown cell with a table of Data Science tools. (3 pts)</strong>"
   ]
  },
  {
   "cell_type": "markdown",
   "id": "34f750eb-46e1-46e8-b8a1-45bf703d5cdb",
   "metadata": {},
   "source": [
    "Data Science Tools:\n",
    "\n",
    "<table style=\"width:100%\">\n",
    "  <tr>\n",
    "    <th>Data Science Tools</th>\n",
    "    <th></th>\n",
    "    <th></th>\n",
    "  </tr>\n",
    "  <tr>\n",
    "    <td></td>\n",
    "    <td></td>\n",
    "    <td></td>\n",
    "  </tr>\n",
    "  <tr>\n",
    "    <td></td>\n",
    "    <td></td>\n",
    "    <td></td>\n",
    "  </tr>\n",
    "  <tr>\n",
    "    <td></td>\n",
    "    <td></td>\n",
    "    <td></td>\n",
    "  </tr>\n",
    "</table>"
   ]
  },
  {
   "cell_type": "markdown",
   "id": "0ff5d698-28c6-4af7-9fbf-3c8aeac5c162",
   "metadata": {},
   "source": [
    "<strong>Exercise 7 - Create a markdown cell introducing arithmetic expression examples. (1 pt)</strong>"
   ]
  },
  {
   "cell_type": "code",
   "execution_count": 21,
   "id": "1b0019a7-0338-4d65-863d-3a35f0ca72ff",
   "metadata": {},
   "outputs": [
    {
     "data": {
      "text/plain": [
       "9"
      ]
     },
     "execution_count": 21,
     "metadata": {},
     "output_type": "execute_result"
    }
   ],
   "source": [
    "# Arithmetic operations\n",
    "code = compile(\"2 + 7\", \"<string>\", \"eval\")\n",
    "eval(code)\n",
    "# Result: 9\n"
   ]
  },
  {
   "cell_type": "code",
   "execution_count": 22,
   "id": "ee49c688-2610-4a78-8947-d12f976e940a",
   "metadata": {},
   "outputs": [
    {
     "data": {
      "text/plain": [
       "13"
      ]
     },
     "execution_count": 22,
     "metadata": {},
     "output_type": "execute_result"
    }
   ],
   "source": [
    "code1 = compile(\"(6+ 7) * 1\", \"<string>\", \"eval\")\n",
    "eval(code1)\n",
    "# Result: 13"
   ]
  },
  {
   "cell_type": "markdown",
   "id": "631c4d61-6e2b-45ac-a6a7-e12c80a37434",
   "metadata": {},
   "source": [
    "<strong>Exercise 8 - Create a code cell to multiply and add numbers.(2 pts)</strong>"
   ]
  },
  {
   "cell_type": "markdown",
   "id": "a556813e-c573-45d9-a354-b3c4545c24ef",
   "metadata": {},
   "source": [
    "This a simple arithmetic expression to mutiply then add integers"
   ]
  },
  {
   "cell_type": "code",
   "execution_count": 23,
   "id": "ae03f72b-2c05-4884-ae94-adc07167487d",
   "metadata": {},
   "outputs": [
    {
     "data": {
      "text/plain": [
       "18"
      ]
     },
     "execution_count": 23,
     "metadata": {},
     "output_type": "execute_result"
    }
   ],
   "source": [
    "(4*4)+2\n",
    "# Result: 18"
   ]
  },
  {
   "cell_type": "markdown",
   "id": "0d55da1f-c304-40e5-84ce-14243b70e2c0",
   "metadata": {},
   "source": [
    "<strong>Exercise 9 - Create a code cell to convert minutes to hours. (2 pts)</strong>"
   ]
  },
  {
   "cell_type": "code",
   "execution_count": 24,
   "id": "383731de-c25b-4b4f-a1ce-44f26b6ae2ab",
   "metadata": {},
   "outputs": [
    {
     "name": "stdout",
     "output_type": "stream",
     "text": [
      "0 days, 3.3333333333333335 hours, 0 mins. \n"
     ]
    }
   ],
   "source": [
    "D = 0\n",
    "H = 0\n",
    "M = 0\n",
    "T = 200\n",
    "leftover_minutes = T % 1440\n",
    "H = leftover_minutes / 60\n",
    "print(str(D) + \" days, \" + str(H) + \" hours, \" + str(M) +  \" mins. \")"
   ]
  },
  {
   "cell_type": "markdown",
   "id": "8df63065-35dc-4418-a0dc-51c8589c0ce6",
   "metadata": {},
   "source": [
    "<strong>Exercise 10 -Insert a markdown cell to list Objectives.</strong>"
   ]
  },
  {
   "cell_type": "markdown",
   "id": "2ab21b9e-1ba9-4739-a770-c672cb525d65",
   "metadata": {},
   "source": [
    "<p>Put a new markdown cell with the objectives addressed in this notebook (i.e., some of the most important lessons learned from the course) beneath the introduction cell that was made in Exercise 3. Start this new cell with an introduction that reads, \"Objectives:\" in bold type. Next, specify three to five topics addressed in this notebook using an unordered list (bullets), such as List popular languages for Data Science.</p>"
   ]
  },
  {
   "cell_type": "markdown",
   "id": "2fe637ac-7c3c-4053-9a9f-7cadbb99d5b6",
   "metadata": {},
   "source": [
    "<strong>Exercise 11 - Create a markdown cell to indicate the Author’s name.</strong>"
   ]
  },
  {
   "cell_type": "markdown",
   "id": "ee566760-e4a1-4439-baf6-5e54e551929f",
   "metadata": {},
   "source": [
    "<h2>Author:</h2> Malak Albalawi"
   ]
  }
 ],
 "metadata": {
  "kernelspec": {
   "display_name": "Python 3.12.0 64-bit",
   "language": "python",
   "name": "python3"
  },
  "language_info": {
   "codemirror_mode": {
    "name": "ipython",
    "version": 3
   },
   "file_extension": ".py",
   "mimetype": "text/x-python",
   "name": "python",
   "nbconvert_exporter": "python",
   "pygments_lexer": "ipython3",
   "version": "3.12.0"
  },
  "vscode": {
   "interpreter": {
    "hash": "106eac91405fc38481f6f7e78fc829db360525fcf894070ef4344662d1481760"
   }
  }
 },
 "nbformat": 4,
 "nbformat_minor": 5
}
